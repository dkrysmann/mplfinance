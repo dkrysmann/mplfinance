{
 "cells": [
  {
   "cell_type": "markdown",
   "id": "4be427e3",
   "metadata": {},
   "source": [
    "---\n",
    "\n",
    "#  Mplfinance Used To Plot Alfhatrend Indicator\n",
    "\n",
    "---"
   ]
  },
  {
   "cell_type": "markdown",
   "id": "db022190",
   "metadata": {},
   "source": [
    "### What is Alphatrend Indicator\n",
    "The Alpha Trend indicator is a powerful tool that traders use to identify trends and trading points in the market. It addresses four key elements:\n",
    "\n",
    "- Reducing false signals at sideway market by trading less frequently\n",
    "- Creating a meaningful trading system by combining indicators from different categories\n",
    "- Establishing reliable buy and sell points\n",
    "- Identifying potential support and resistance levels"
   ]
  },
  {
   "cell_type": "markdown",
   "id": "abfc3353",
   "metadata": {},
   "source": [
    "---\n",
    "\n",
    "### mplfinance 'yahoo' styles was used to customize alphatrend indicator:\n",
    "- Type of Plot Use `candle`\n",
    "- Alphatrend Indicator Build With Two Types Lines Named Signal Line and Trend Line\n",
    "- Background, Grid, and Figure Colors\n",
    "- Grid style\n",
    "- Y-Axis On The Right or Left\n",
    "- Matplotlib Defaults\n",
    "- Fill Between\n",
    "- Alpha\n",
    "- Color\n",
    "#### The simplest way to do this is to choose one of the `add_plot` that come packaged with `mplfinance`\n",
    "#### but, as we see below, it is also possible to customize your own `mplfinance styles`.\n",
    "#### Also Other Plot Type Can Be Used\n",
    "\n",
    "---"
   ]
  },
  {
   "cell_type": "code",
   "execution_count": 3,
   "id": "9a9979e1",
   "metadata": {},
   "outputs": [
    {
     "name": "stdout",
     "output_type": "stream",
     "text": [
      "Defaulting to user installation because normal site-packages is not writeable\n",
      "\u001b[31mERROR: Could not open requirements file: [Errno 2] No such file or directory: 'requirements.txt'\u001b[0m\u001b[31m\n",
      "\u001b[0m"
     ]
    }
   ],
   "source": [
    "!pip install -r requirements.txt\n"
   ]
  },
  {
   "cell_type": "code",
   "execution_count": 4,
   "id": "821ec5c5",
   "metadata": {},
   "outputs": [],
   "source": [
    "import pandas as pd\n",
    "import pandas_ta as ta\n",
    "import mplfinance as mpf\n",
    "import numpy as np"
   ]
  },
  {
   "cell_type": "code",
   "execution_count": 5,
   "id": "378febfd",
   "metadata": {},
   "outputs": [],
   "source": [
    "# This allows multiple outputs from a single jupyter notebook cell:\n",
    "from IPython.core.interactiveshell import InteractiveShell\n",
    "InteractiveShell.ast_node_interactivity = \"all\""
   ]
  },
  {
   "cell_type": "markdown",
   "id": "b32a433d",
   "metadata": {},
   "source": [
    "### Read in daily data for the S&P 500 from November of 2019 "
   ]
  },
  {
   "cell_type": "code",
   "execution_count": 6,
   "id": "a410f0a2",
   "metadata": {},
   "outputs": [
    {
     "data": {
      "text/plain": [
       "(200, 6)"
      ]
     },
     "execution_count": 6,
     "metadata": {},
     "output_type": "execute_result"
    },
    {
     "data": {
      "text/html": [
       "<div>\n",
       "<style scoped>\n",
       "    .dataframe tbody tr th:only-of-type {\n",
       "        vertical-align: middle;\n",
       "    }\n",
       "\n",
       "    .dataframe tbody tr th {\n",
       "        vertical-align: top;\n",
       "    }\n",
       "\n",
       "    .dataframe thead th {\n",
       "        text-align: right;\n",
       "    }\n",
       "</style>\n",
       "<table border=\"1\" class=\"dataframe\">\n",
       "  <thead>\n",
       "    <tr style=\"text-align: right;\">\n",
       "      <th></th>\n",
       "      <th>Open</th>\n",
       "      <th>High</th>\n",
       "      <th>Low</th>\n",
       "      <th>Close</th>\n",
       "      <th>Adj Close</th>\n",
       "      <th>Volume</th>\n",
       "    </tr>\n",
       "    <tr>\n",
       "      <th>Date</th>\n",
       "      <th></th>\n",
       "      <th></th>\n",
       "      <th></th>\n",
       "      <th></th>\n",
       "      <th></th>\n",
       "      <th></th>\n",
       "    </tr>\n",
       "  </thead>\n",
       "  <tbody>\n",
       "    <tr>\n",
       "      <th>2003-06-25</th>\n",
       "      <td>20.530001</td>\n",
       "      <td>20.83</td>\n",
       "      <td>19.99</td>\n",
       "      <td>20.040001</td>\n",
       "      <td>13.693501</td>\n",
       "      <td>61250600</td>\n",
       "    </tr>\n",
       "    <tr>\n",
       "      <th>2003-06-26</th>\n",
       "      <td>20.299999</td>\n",
       "      <td>20.76</td>\n",
       "      <td>20.15</td>\n",
       "      <td>20.629999</td>\n",
       "      <td>14.096654</td>\n",
       "      <td>52904900</td>\n",
       "    </tr>\n",
       "  </tbody>\n",
       "</table>\n",
       "</div>"
      ],
      "text/plain": [
       "                 Open   High    Low      Close  Adj Close    Volume\n",
       "Date                                                               \n",
       "2003-06-25  20.530001  20.83  19.99  20.040001  13.693501  61250600\n",
       "2003-06-26  20.299999  20.76  20.15  20.629999  14.096654  52904900"
      ]
     },
     "execution_count": 6,
     "metadata": {},
     "output_type": "execute_result"
    },
    {
     "data": {
      "text/html": [
       "<div>\n",
       "<style scoped>\n",
       "    .dataframe tbody tr th:only-of-type {\n",
       "        vertical-align: middle;\n",
       "    }\n",
       "\n",
       "    .dataframe tbody tr th {\n",
       "        vertical-align: top;\n",
       "    }\n",
       "\n",
       "    .dataframe thead th {\n",
       "        text-align: right;\n",
       "    }\n",
       "</style>\n",
       "<table border=\"1\" class=\"dataframe\">\n",
       "  <thead>\n",
       "    <tr style=\"text-align: right;\">\n",
       "      <th></th>\n",
       "      <th>Open</th>\n",
       "      <th>High</th>\n",
       "      <th>Low</th>\n",
       "      <th>Close</th>\n",
       "      <th>Adj Close</th>\n",
       "      <th>Volume</th>\n",
       "    </tr>\n",
       "    <tr>\n",
       "      <th>Date</th>\n",
       "      <th></th>\n",
       "      <th></th>\n",
       "      <th></th>\n",
       "      <th></th>\n",
       "      <th></th>\n",
       "      <th></th>\n",
       "    </tr>\n",
       "  </thead>\n",
       "  <tbody>\n",
       "    <tr>\n",
       "      <th>2004-04-07</th>\n",
       "      <td>28.08</td>\n",
       "      <td>28.129999</td>\n",
       "      <td>27.480000</td>\n",
       "      <td>27.620001</td>\n",
       "      <td>18.923342</td>\n",
       "      <td>72680200</td>\n",
       "    </tr>\n",
       "    <tr>\n",
       "      <th>2004-04-08</th>\n",
       "      <td>28.08</td>\n",
       "      <td>28.139999</td>\n",
       "      <td>27.200001</td>\n",
       "      <td>27.370001</td>\n",
       "      <td>18.752058</td>\n",
       "      <td>71791400</td>\n",
       "    </tr>\n",
       "  </tbody>\n",
       "</table>\n",
       "</div>"
      ],
      "text/plain": [
       "             Open       High        Low      Close  Adj Close    Volume\n",
       "Date                                                                   \n",
       "2004-04-07  28.08  28.129999  27.480000  27.620001  18.923342  72680200\n",
       "2004-04-08  28.08  28.139999  27.200001  27.370001  18.752058  71791400"
      ]
     },
     "execution_count": 6,
     "metadata": {},
     "output_type": "execute_result"
    }
   ],
   "source": [
    "idf = pd.read_csv('../data/yahoofinance-INTC-19950101-20040412.csv',index_col=0,parse_dates=True).tail(200)\n",
    "\n",
    "df = idf.copy()\n",
    "df.index.name = 'Date'\n",
    "df.shape\n",
    "df.head(2)\n",
    "df.tail(2)"
   ]
  },
  {
   "cell_type": "markdown",
   "id": "9157386c",
   "metadata": {},
   "source": [
    "---\n",
    "\n",
    "- `alphatrend_cal` is OHLCV Data To Return Trend And Signal Line Used In Alphatrend\n",
    "- **Here is Function For The Calculation:**\n",
    "\n",
    "---"
   ]
  },
  {
   "cell_type": "code",
   "execution_count": 9,
   "id": "5c3e9613",
   "metadata": {},
   "outputs": [],
   "source": [
    "def alphatrend_cal(df):  \n",
    "    Open = df['Open']\n",
    "    Close = df['Close']\n",
    "    High = df['High']\n",
    "    Low = df['Low']\n",
    "    Volume = df['Volume']\n",
    "    ap = 14\n",
    "    tr = ta.true_range(High, Low, Close)\n",
    "    atr = ta.sma(tr, ap)\n",
    "    noVolumeData = False\n",
    "    coeff = 1\n",
    "    upt = []\n",
    "    downT = []\n",
    "    AlphaTrend = [0.0]\n",
    "    src = Close\n",
    "    rsi = ta.rsi(src, 14)\n",
    "    hlc3 = []\n",
    "    k1 = []\n",
    "    k2 = []\n",
    "    mfi = ta.mfi(High, Low, Close, Volume, 14)\n",
    "    for i in range(len(Close)):\n",
    "        hlc3.append((High[i] + Low[i] + Close[i]) / 3)\n",
    "\n",
    "    for i in range(len(Low)):\n",
    "        if pd.isna(atr[i]):\n",
    "            upt.append(0)\n",
    "        else:\n",
    "            upt.append(Low[i] - (atr[i] * coeff))\n",
    "    for i in range(len(High)):\n",
    "        if pd.isna(atr[i]):\n",
    "            downT.append(0)\n",
    "        else:\n",
    "            downT.append(High[i] + (atr[i] * coeff))\n",
    "    for i in range(1, len(Close)):\n",
    "        if noVolumeData is True and rsi[i] >= 50:\n",
    "            if upt[i] < AlphaTrend[i - 1]:\n",
    "                AlphaTrend.append(AlphaTrend[i - 1])\n",
    "            else:\n",
    "                AlphaTrend.append(upt[i])\n",
    "\n",
    "        elif noVolumeData is False and mfi[i] >= 50:\n",
    "            if upt[i] < AlphaTrend[i - 1]:\n",
    "                AlphaTrend.append(AlphaTrend[i - 1])\n",
    "            else:\n",
    "                AlphaTrend.append(upt[i])\n",
    "        else:\n",
    "            if downT[i] > AlphaTrend[i - 1]:\n",
    "                AlphaTrend.append(AlphaTrend[i - 1])\n",
    "            else:\n",
    "                AlphaTrend.append(downT[i])\n",
    "\n",
    "    for i in range(len(AlphaTrend)):\n",
    "        if i < 2:\n",
    "            k2.append(0)\n",
    "            k1.append(AlphaTrend[i])\n",
    "        else:\n",
    "            k2.append(AlphaTrend[i - 2])\n",
    "            k1.append(AlphaTrend[i])\n",
    "\n",
    "    df['k1'] = k1\n",
    "    df['k2'] = k2\n",
    "    return df"
   ]
  },
  {
   "cell_type": "markdown",
   "id": "e84ec985",
   "metadata": {},
   "source": [
    "---\n",
    "\n",
    "- `alphatrend_cal` return new DataFrame With Two New Columns Named As `k1` and `k2`\n",
    "- **Here is New Dataframe Named As alphatrend:**\n",
    "\n",
    "---"
   ]
  },
  {
   "cell_type": "code",
   "execution_count": 10,
   "id": "6b097e76",
   "metadata": {},
   "outputs": [
    {
     "name": "stderr",
     "output_type": "stream",
     "text": [
      "/home/dkrysmann/.local/lib/python3.12/site-packages/pandas_ta/volume/mfi.py:33: FutureWarning: Setting an item of incompatible dtype is deprecated and will raise in a future error of pandas. Value '[1.08525583e+09 1.31405283e+09 1.07546172e+09 1.36345812e+09\n",
      " 1.63441295e+09 1.28300133e+09 1.49932366e+09 1.85102292e+09\n",
      " 1.08442994e+09 1.85736201e+09 2.47418707e+09 3.25021685e+09\n",
      " 1.48614130e+09 1.20961167e+09 1.29078207e+09 1.12897797e+09\n",
      " 1.70157436e+09 1.71547069e+09 9.93579188e+08 1.17293585e+09\n",
      " 1.27994124e+09 1.29333123e+09 5.41362822e+08 1.52566836e+09\n",
      " 1.47247335e+09 1.24682402e+09 3.36686446e+09 1.78532549e+09\n",
      " 1.62076685e+09 1.36979005e+09 1.19353910e+09 1.68187763e+09\n",
      " 1.81417418e+09 1.96576293e+09 1.51559524e+09 1.45893171e+09\n",
      " 1.02205209e+09 1.39614272e+09 1.53251994e+09 1.55938475e+09\n",
      " 1.26472206e+09 1.84767523e+09 1.68976992e+09 1.21475699e+09\n",
      " 1.96819057e+09 8.56512535e+08 1.42375028e+09 1.22303789e+09\n",
      " 2.27305524e+09 1.40175726e+09 1.28178115e+09 2.06773278e+09\n",
      " 3.55258953e+09 1.37789692e+09 1.61573071e+09 1.16937533e+09\n",
      " 1.84377786e+09 1.56149775e+09 1.83419610e+09 1.80060419e+09\n",
      " 1.42967650e+09 1.64962944e+09 1.67425092e+09 1.54948701e+09\n",
      " 1.47011193e+09 1.51771310e+09 1.29357647e+09 4.43118727e+08\n",
      " 1.59543570e+09 1.42840796e+09 1.74865313e+09 1.48179086e+09\n",
      " 1.75123860e+09 1.61951658e+09 1.15102889e+09 4.84739220e+08\n",
      " 3.72047321e+08 1.16689450e+09 1.01370157e+09 1.03178353e+09\n",
      " 1.20481607e+09 1.39596589e+09 1.24816960e+09 2.14784495e+09\n",
      " 1.72852805e+09 1.33107903e+09 1.93675617e+09 1.69545527e+09\n",
      " 1.12239622e+09 1.61109044e+09 1.18233285e+09 1.23222814e+09\n",
      " 1.29654082e+09 1.61598797e+09 1.35760233e+09 1.92392153e+09\n",
      " 1.94149209e+09 1.77200157e+09 1.55976287e+09 1.53720664e+09\n",
      " 1.84812989e+09 1.84317187e+09 2.32933345e+09 1.80630680e+09\n",
      " 1.83598898e+09 1.51282073e+09 2.19993141e+09 1.35045513e+09]' has dtype incompatible with int64, please explicitly cast to a compatible dtype first.\n",
      "  tdf.loc[tdf[\"diff\"] == 1, \"+mf\"] = raw_money_flow\n",
      "/home/dkrysmann/.local/lib/python3.12/site-packages/pandas_ta/volume/mfi.py:36: FutureWarning: Setting an item of incompatible dtype is deprecated and will raise in a future error of pandas. Value '[8.87542551e+08 1.45122110e+09 1.78457246e+09 1.60978624e+09\n",
      " 1.27970371e+09 1.41597501e+09 1.00116528e+09 1.20946281e+09\n",
      " 1.33478580e+09 1.27558431e+09 1.39680911e+09 1.16685309e+09\n",
      " 1.36222484e+09 1.75343846e+09 1.42357254e+09 1.72490745e+09\n",
      " 1.43702309e+09 1.61972710e+09 1.58010520e+09 1.35039703e+09\n",
      " 1.38182048e+09 1.67902926e+09 1.59635010e+09 1.88486300e+09\n",
      " 1.75709666e+09 1.76434400e+09 1.67451336e+09 1.58648240e+09\n",
      " 1.50271014e+09 1.72629789e+09 1.30342624e+09 1.41781725e+09\n",
      " 1.53358646e+09 1.82794086e+09 1.37226088e+09 1.77334786e+09\n",
      " 1.97001570e+09 2.08783916e+09 1.84019322e+09 1.91230130e+09\n",
      " 1.42377490e+09 1.67354052e+09 2.04261720e+09 2.13721235e+09\n",
      " 2.12316441e+09 2.51109710e+09 2.45003020e+09 1.86412500e+09\n",
      " 1.69890138e+09 1.69260537e+09 1.03243562e+09 1.93960776e+09\n",
      " 1.72833506e+09 2.30124925e+09 2.52462382e+09 2.72849801e+09\n",
      " 1.79768732e+09 1.55721891e+09 1.80531613e+09 1.65513337e+09\n",
      " 1.45542590e+09 1.63875728e+09 1.94235605e+09 2.63194655e+09\n",
      " 1.96557129e+09 1.98327115e+09 2.40810459e+09 2.24129704e+09\n",
      " 1.11188718e+09 1.92388105e+09 1.81984918e+09 2.10919296e+09\n",
      " 2.69399141e+09 1.99368142e+09 1.73089576e+09 1.99150584e+09\n",
      " 3.44574568e+09 2.97617652e+09 2.57874789e+09 2.42765942e+09\n",
      " 2.67459637e+09 1.49430470e+09 1.82602532e+09 1.93491420e+09\n",
      " 2.23961876e+09 1.91641277e+09 1.70133848e+09 1.57414179e+09\n",
      " 1.98190922e+09 2.01639102e+09 1.97928892e+09]' has dtype incompatible with int64, please explicitly cast to a compatible dtype first.\n",
      "  tdf.loc[tdf[\"diff\"] == -1, \"-mf\"] = raw_money_flow\n",
      "/tmp/ipykernel_122476/475384955.py:22: FutureWarning: Series.__getitem__ treating keys as positions is deprecated. In a future version, integer keys will always be treated as labels (consistent with DataFrame behavior). To access a value by position, use `ser.iloc[pos]`\n",
      "  hlc3.append((High[i] + Low[i] + Close[i]) / 3)\n",
      "/tmp/ipykernel_122476/475384955.py:25: FutureWarning: Series.__getitem__ treating keys as positions is deprecated. In a future version, integer keys will always be treated as labels (consistent with DataFrame behavior). To access a value by position, use `ser.iloc[pos]`\n",
      "  if pd.isna(atr[i]):\n",
      "/tmp/ipykernel_122476/475384955.py:28: FutureWarning: Series.__getitem__ treating keys as positions is deprecated. In a future version, integer keys will always be treated as labels (consistent with DataFrame behavior). To access a value by position, use `ser.iloc[pos]`\n",
      "  upt.append(Low[i] - (atr[i] * coeff))\n",
      "/tmp/ipykernel_122476/475384955.py:30: FutureWarning: Series.__getitem__ treating keys as positions is deprecated. In a future version, integer keys will always be treated as labels (consistent with DataFrame behavior). To access a value by position, use `ser.iloc[pos]`\n",
      "  if pd.isna(atr[i]):\n",
      "/tmp/ipykernel_122476/475384955.py:33: FutureWarning: Series.__getitem__ treating keys as positions is deprecated. In a future version, integer keys will always be treated as labels (consistent with DataFrame behavior). To access a value by position, use `ser.iloc[pos]`\n",
      "  downT.append(High[i] + (atr[i] * coeff))\n",
      "/tmp/ipykernel_122476/475384955.py:41: FutureWarning: Series.__getitem__ treating keys as positions is deprecated. In a future version, integer keys will always be treated as labels (consistent with DataFrame behavior). To access a value by position, use `ser.iloc[pos]`\n",
      "  elif noVolumeData is False and mfi[i] >= 50:\n"
     ]
    }
   ],
   "source": [
    "alphatrend = alphatrend_cal(df).tail(90)"
   ]
  },
  {
   "cell_type": "code",
   "execution_count": 11,
   "id": "84416a60",
   "metadata": {},
   "outputs": [],
   "source": [
    "# Data Extracted And New Variable Applied\n",
    "k1 = alphatrend[['k1']]\n",
    "k2 = alphatrend[['k2']]"
   ]
  },
  {
   "cell_type": "markdown",
   "id": "cc1e77f1",
   "metadata": {},
   "source": [
    "Use a dict to specify other attributes (kwargs) for `fill_between`:\n",
    "<br>\n",
    "To demonstrate use of `fill_between` the `where` kwarg to display a holding period\n",
    "<br>\n",
    "`where = aplhatrend['k1'] < alphatrend['k2']`"
   ]
  },
  {
   "cell_type": "code",
   "execution_count": 12,
   "id": "2a1415c7",
   "metadata": {},
   "outputs": [],
   "source": [
    "fill_up = dict(y1 = alphatrend['k1'].values, y2 = alphatrend['k2'].values, where = alphatrend['k1'] >= alphatrend['k2'], color = '#00E60F')\n",
    "fill_down = dict(y1 = alphatrend['k1'].values, y2 = alphatrend['k2'].values, where = alphatrend['k1'] <= alphatrend['k2'], color = '#80000B')"
   ]
  },
  {
   "cell_type": "markdown",
   "id": "4053fab9",
   "metadata": {},
   "source": [
    "---\n",
    "\n",
    "Let's say we want to plot the Ichimoku Cloud along with the basic OHLCV plot.  \n",
    "\n",
    "We Use `make_addplot()` to create the addplot dict, and pass that into the plot() function:\n",
    "\n",
    "We Use `Color` To Define Line Colors\n",
    "\n",
    "We Use `alpha` To Define Depth Line Color"
   ]
  },
  {
   "cell_type": "code",
   "execution_count": 13,
   "id": "3cc8fd1f",
   "metadata": {},
   "outputs": [],
   "source": [
    "ic = [\n",
    "    #Alpha Trend\n",
    "    mpf.make_addplot(k1,color = '#0022FC',width=3),\n",
    "    mpf.make_addplot(k2,color = '#FC0400',width=3),\n",
    "]"
   ]
  },
  {
   "cell_type": "code",
   "execution_count": 14,
   "id": "236c94af",
   "metadata": {},
   "outputs": [
    {
     "data": {
      "image/png": "[encoded data removed]",
      "text/plain": [
       "<Figure size 2000x1000 with 2 Axes>"
      ]
     },
     "metadata": {},
     "output_type": "display_data"
    }
   ],
   "source": [
    "mpf.plot(\n",
    "    df.tail(90),\n",
    "    #volume=True,\n",
    "    type=\"candle\", \n",
    "    style=\"yahoo\",\n",
    "    addplot=ic,\n",
    "    fill_between = [fill_up,fill_down],\n",
    "    figsize=(20,10)\n",
    ")"
   ]
  },
  {
   "cell_type": "code",
   "execution_count": null,
   "id": "5ac1cbf1",
   "metadata": {},
   "outputs": [],
   "source": []
  }
 ],
 "metadata": {
  "kernelspec": {
   "display_name": "Python 3",
   "language": "python",
   "name": "python3"
  },
  "language_info": {
   "codemirror_mode": {
    "name": "ipython",
    "version": 3
   },
   "file_extension": ".py",
   "mimetype": "text/x-python",
   "name": "python",
   "nbconvert_exporter": "python",
   "pygments_lexer": "ipython3",
   "version": "3.12.3"
  }
 },
 "nbformat": 4,
 "nbformat_minor": 5
}
